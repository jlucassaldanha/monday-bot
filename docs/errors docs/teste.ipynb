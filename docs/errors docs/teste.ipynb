{
 "cells": [
  {
   "cell_type": "markdown",
   "id": "786b6997",
   "metadata": {},
   "source": [
    "Starts a commercial on the specified channel.\n",
    "\n",
    "**NOTE**: Only partners and affiliates may run commercials and they must be streaming live at the time.\n",
    "\n",
    "**NOTE**: Only the broadcaster may start a commercial; the broadcaster’s editors and moderators may not start commercials on behalf of the broadcaster.\n",
    "\n",
    "### Authorization\n",
    "\n",
    "Requires a [user access token](/docs/authentication#user-access-tokens) that includes the **channel:edit:commercial** scope.\n",
    "\n",
    "### URL\n",
    "\n",
    "`POST https://api.twitch.tv/helix/channels/commercial`"
   ]
  },
  {
   "cell_type": "markdown",
   "id": "ad87aa4c",
   "metadata": {},
   "source": [
    "| Field | Type | Description |\n",
    "| --- | --- | --- |\n",
    "| broadcaster\\_id | String | The ID of the partner or affiliate broadcaster that wants to run the commercial. This ID must match the user ID found in the OAuth token. |\n",
    "| length | Integer | The length of the commercial to run, in seconds. Twitch tries to serve a commercial that’s the requested length, but it may be shorter or longer. The maximum length you should request is 180 seconds. |"
   ]
  },
  {
   "cell_type": "code",
   "execution_count": 4,
   "id": "dee03079",
   "metadata": {},
   "outputs": [],
   "source": [
    "class teste():\n",
    "    def __init__(self):\n",
    "        r\"\"\"\n",
    "        Starts a commercial on the specified channel.\n",
    "\n",
    "        **NOTE**: Only partners and affiliates may run commercials and they must be streaming live at the time.\n",
    "\n",
    "        **NOTE**: Only the broadcaster may start a commercial; the broadcaster’s editors and moderators may not start commercials on behalf of the broadcaster.\n",
    "\n",
    "        ### Authorization\n",
    "\n",
    "        Requires a [user access token](/docs/authentication#user-access-tokens) that includes the **channel:edit:commercial** scope.\n",
    "\n",
    "        ### URL\n",
    "\n",
    "        `POST https://api.twitch.tv/helix/channels/commercial`\n",
    "\n",
    "        | Field | Type | Description |\n",
    "| --- | --- | --- |\n",
    "| broadcaster_id | String | The ID of the partner or affiliate broadcaster that wants to run the commercial. This ID must match the user ID found in the OAuth token. |\n",
    "| length | Integer | The length of the commercial to run, in seconds. Twitch tries to serve a commercial that’s the requested length, but it may be shorter or longer. The maximum length you should request is 180 seconds. |\n",
    "        \"\"\"\n",
    "        pass\n",
    "\n"
   ]
  },
  {
   "cell_type": "code",
   "execution_count": 5,
   "id": "93896647",
   "metadata": {},
   "outputs": [
    {
     "data": {
      "text/plain": [
       "<__main__.teste at 0x2166b6cb830>"
      ]
     },
     "execution_count": 5,
     "metadata": {},
     "output_type": "execute_result"
    }
   ],
   "source": [
    "teste()"
   ]
  },
  {
   "cell_type": "markdown",
   "id": "c07da8c2",
   "metadata": {},
   "source": [
    "teste"
   ]
  }
 ],
 "metadata": {
  "kernelspec": {
   "display_name": "Python 3",
   "language": "python",
   "name": "python3"
  },
  "language_info": {
   "codemirror_mode": {
    "name": "ipython",
    "version": 3
   },
   "file_extension": ".py",
   "mimetype": "text/x-python",
   "name": "python",
   "nbconvert_exporter": "python",
   "pygments_lexer": "ipython3",
   "version": "3.12.7"
  }
 },
 "nbformat": 4,
 "nbformat_minor": 5
}
